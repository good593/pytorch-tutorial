{
 "cells": [
  {
   "cell_type": "code",
   "execution_count": 1,
   "metadata": {},
   "outputs": [],
   "source": [
    "import train_test_split as data_split "
   ]
  },
  {
   "cell_type": "code",
   "execution_count": 2,
   "metadata": {},
   "outputs": [
    {
     "name": "stdout",
     "output_type": "stream",
     "text": [
      "Size of the entire dataset:(100000, 4)\n",
      "Saving df to path: ./Data/movielens.train.rating\n",
      "Columns in df are: ['userID', 'movieID', 'rating', 'timestamp']\n",
      "Saving df to path: ./Data/movielens.test.rating\n",
      "Columns in df are: ['userID', 'movieID', 'rating', 'timestamp']\n",
      "Total No. of Records = 100000.0\n",
      "Train size = 99057, Test size = 943\n",
      "Train % = 0.99057, Test % =0.00943\n"
     ]
    },
    {
     "name": "stderr",
     "output_type": "stream",
     "text": [
      "/Users/gyoungwon-cho/dev/github/pytorch-tutorial/recommendation/MovieLens/HarshdeepGupta/train_test_split.py:28: SettingWithCopyWarning: \n",
      "A value is trying to be set on a copy of a slice from a DataFrame\n",
      "\n",
      "See the caveats in the documentation: https://pandas.pydata.org/pandas-docs/stable/user_guide/indexing.html#returning-a-view-versus-a-copy\n",
      "  train_df.sort_values(by=[\"userID\", 'timestamp'], inplace = True)\n",
      "/Users/gyoungwon-cho/dev/github/pytorch-tutorial/recommendation/MovieLens/HarshdeepGupta/train_test_split.py:29: SettingWithCopyWarning: \n",
      "A value is trying to be set on a copy of a slice from a DataFrame\n",
      "\n",
      "See the caveats in the documentation: https://pandas.pydata.org/pandas-docs/stable/user_guide/indexing.html#returning-a-view-versus-a-copy\n",
      "  test_df.sort_values(by=[\"userID\", 'timestamp'], inplace = True)\n"
     ]
    }
   ],
   "source": [
    "data_split.main()"
   ]
  },
  {
   "cell_type": "code",
   "execution_count": null,
   "metadata": {},
   "outputs": [],
   "source": []
  }
 ],
 "metadata": {
  "interpreter": {
   "hash": "819822aad1d7dd5a8911f6442f86af1dcc8bcd014a1dc82c30af569169ee7dac"
  },
  "kernelspec": {
   "display_name": "Python 3.9.10 64-bit ('pytorch3.9')",
   "language": "python",
   "name": "python3"
  },
  "language_info": {
   "codemirror_mode": {
    "name": "ipython",
    "version": 3
   },
   "file_extension": ".py",
   "mimetype": "text/x-python",
   "name": "python",
   "nbconvert_exporter": "python",
   "pygments_lexer": "ipython3",
   "version": "3.9.10+"
  },
  "orig_nbformat": 4
 },
 "nbformat": 4,
 "nbformat_minor": 2
}
