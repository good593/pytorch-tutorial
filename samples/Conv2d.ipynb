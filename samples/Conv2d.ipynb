{
 "cells": [
  {
   "cell_type": "markdown",
   "metadata": {},
   "source": [
    "# [Pytorch nn.Conv2d](https://guru.tistory.com/70)\n",
    "- 파이토치에서는 다음과 같은 모듈을 사용하는데, torch.nn 모듈안에 들어있으므로, inport torch.nn을 해주어야 한다.  \n",
    "- input type은 당연히 torch.Tensor로 shape의 크기는 다음과 같다. 그전에 Conv2d를 연산하게 된다면, stride(conv layer의 크기), 그리고 이 conv layer를 얼마만큼 띄엄띄엄 해주는지 -> padding 값을 설정해주어야 한다.  \n",
    "- input shape = (N, C, H, W) => (batch_size, channel, height, width)"
   ]
  },
  {
   "cell_type": "code",
   "execution_count": 11,
   "metadata": {},
   "outputs": [],
   "source": [
    "import torch\n",
    "import torch.nn as nn"
   ]
  },
  {
   "cell_type": "code",
   "execution_count": 12,
   "metadata": {},
   "outputs": [
    {
     "data": {
      "text/plain": [
       "torch.Size([1, 1, 64, 64])"
      ]
     },
     "execution_count": 12,
     "metadata": {},
     "output_type": "execute_result"
    }
   ],
   "source": [
    "inputs = torch.Tensor(1,1,64,64)\n",
    "conv = nn.Conv2d(1,1,3, padding=1)\n",
    "out = conv(inputs)\n",
    "out.shape"
   ]
  },
  {
   "cell_type": "markdown",
   "metadata": {},
   "source": [
    "# PyTorch MaxPool2d\n",
    "- Pooling: 보통 MaxPooling을 사용하지만, Average Pooling Layer을 사용하는 경우도 있다. Pooling Layer에서는 따로 학습값이 진행되지 않고, backpropagation 값을 그대로 전달해 준다.  \n",
    "- Pooling 값의 사이즈는 kernel_size로 설정이 가능하며, 마찬가지로 padding stride 등이 설정가능하지만, kernel_size를 주는 것이 보통의 방법이다.\n",
    "- Pooling Layer을 사용하게 되면 size가 pooling layer의 사이즈 만큼 줄어들게 된다. "
   ]
  },
  {
   "cell_type": "code",
   "execution_count": 13,
   "metadata": {},
   "outputs": [
    {
     "data": {
      "text/plain": [
       "torch.Size([1, 1, 32, 32])"
      ]
     },
     "execution_count": 13,
     "metadata": {},
     "output_type": "execute_result"
    }
   ],
   "source": [
    "inputs = torch.Tensor(1,1,64,64)\n",
    "conv = nn.MaxPool2d(2)\n",
    "out = conv(inputs)\n",
    "out.shape"
   ]
  },
  {
   "cell_type": "markdown",
   "metadata": {},
   "source": [
    "# [Pooling(subsampling)](https://eda-ai-lab.tistory.com/407)"
   ]
  },
  {
   "cell_type": "markdown",
   "metadata": {},
   "source": []
  }
 ],
 "metadata": {
  "interpreter": {
   "hash": "819822aad1d7dd5a8911f6442f86af1dcc8bcd014a1dc82c30af569169ee7dac"
  },
  "kernelspec": {
   "display_name": "Python 3.9.10 64-bit ('pytorch3.9')",
   "language": "python",
   "name": "python3"
  },
  "language_info": {
   "codemirror_mode": {
    "name": "ipython",
    "version": 3
   },
   "file_extension": ".py",
   "mimetype": "text/x-python",
   "name": "python",
   "nbconvert_exporter": "python",
   "pygments_lexer": "ipython3",
   "version": "3.9.10"
  },
  "orig_nbformat": 4
 },
 "nbformat": 4,
 "nbformat_minor": 2
}
