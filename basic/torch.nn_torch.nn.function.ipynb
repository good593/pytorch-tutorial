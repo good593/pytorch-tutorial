{
 "cells": [
  {
   "cell_type": "markdown",
   "metadata": {},
   "source": [
    "## torch.nn and torch.nn.function \n",
    "> The difference and connection between torch.nn and torch.nn.function from relu's various implementations\n",
    "##### 참고 싸이트\n",
    "- https://programmer.group/5d5a404b257d7.html\n",
    "- https://blog.actorsfit.com/a?ID=01750-886a6b0d-5ed7-458d-9ae4-8bf2345faca5\n",
    "\n",
    "### The relationship between relu's multiple implementations\n",
    "- torch.nn.ReLU()\n",
    "- torch.nn.functional.relu() and torch.nn.funtional.relu_()\n",
    "- torch.relu() and torch.relu_()\n",
    "\n",
    "### The Differences and Relations between Toch.nn and Toch.nn.Functional\n"
   ]
  },
  {
   "cell_type": "code",
   "execution_count": null,
   "metadata": {},
   "outputs": [],
   "source": [
    "# torch.nn.ReLU()\n",
    "# The class in torch.nn.represents the neural network layer. \n",
    "# Here we see that the ReLU() that appears as a class actually calls the relu relu_implementation in torch.nn.function\n",
    "class ReLU(Module):\n",
    "  r\"\"\"Applies the rectified linear unit function element-wise:\n",
    "  :\n",
    "  \"\"\""
   ]
  }
 ],
 "metadata": {
  "interpreter": {
   "hash": "819822aad1d7dd5a8911f6442f86af1dcc8bcd014a1dc82c30af569169ee7dac"
  },
  "kernelspec": {
   "display_name": "Python 3.9.10 64-bit ('pytorch3.9')",
   "language": "python",
   "name": "python3"
  },
  "language_info": {
   "name": "python",
   "version": "3.9.10"
  },
  "orig_nbformat": 4
 },
 "nbformat": 4,
 "nbformat_minor": 2
}
