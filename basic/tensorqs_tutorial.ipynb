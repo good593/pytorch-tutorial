{
 "cells": [
  {
   "cell_type": "markdown",
   "metadata": {},
   "source": [
    "# [텐서](https://tutorials.pytorch.kr/beginner/basics/tensorqs_tutorial.html)"
   ]
  },
  {
   "cell_type": "code",
   "execution_count": 1,
   "metadata": {},
   "outputs": [],
   "source": [
    "import torch\n",
    "import numpy as np"
   ]
  },
  {
   "cell_type": "code",
   "execution_count": 3,
   "metadata": {},
   "outputs": [
    {
     "data": {
      "text/plain": [
       "tensor([[1, 2],\n",
       "        [3, 4]])"
      ]
     },
     "execution_count": 3,
     "metadata": {},
     "output_type": "execute_result"
    }
   ],
   "source": [
    "data = [[1, 2],[3, 4]]\n",
    "x_data = torch.tensor(data)\n",
    "x_data"
   ]
  },
  {
   "cell_type": "code",
   "execution_count": 5,
   "metadata": {},
   "outputs": [
    {
     "data": {
      "text/plain": [
       "(array([[1, 2],\n",
       "        [3, 4]]),\n",
       " tensor([[1, 2],\n",
       "         [3, 4]], dtype=torch.int32))"
      ]
     },
     "execution_count": 5,
     "metadata": {},
     "output_type": "execute_result"
    }
   ],
   "source": [
    "np_array = np.array(data)\n",
    "x_np = torch.from_numpy(np_array)\n",
    "np_array, x_np"
   ]
  },
  {
   "cell_type": "code",
   "execution_count": 6,
   "metadata": {},
   "outputs": [
    {
     "name": "stdout",
     "output_type": "stream",
     "text": [
      "Ones Tensor: \n",
      " tensor([[1, 1],\n",
      "        [1, 1]]) \n",
      "\n",
      "Random Tensor: \n",
      " tensor([[0.3421, 0.2420],\n",
      "        [0.3782, 0.5077]]) \n",
      "\n"
     ]
    }
   ],
   "source": [
    "x_ones = torch.ones_like(x_data) # x_data의 속성을 유지합니다.\n",
    "print(f\"Ones Tensor: \\n {x_ones} \\n\")\n",
    "\n",
    "x_rand = torch.rand_like(x_data, dtype=torch.float) # x_data의 속성을 덮어씁니다.\n",
    "print(f\"Random Tensor: \\n {x_rand} \\n\")"
   ]
  },
  {
   "cell_type": "code",
   "execution_count": 7,
   "metadata": {},
   "outputs": [
    {
     "name": "stdout",
     "output_type": "stream",
     "text": [
      "Random Tensor: \n",
      " tensor([[0.9897, 0.7628, 0.2327],\n",
      "        [0.7702, 0.7828, 0.8800]]) \n",
      "\n",
      "Ones Tensor: \n",
      " tensor([[1., 1., 1.],\n",
      "        [1., 1., 1.]]) \n",
      "\n",
      "Zeros Tensor: \n",
      " tensor([[0., 0., 0.],\n",
      "        [0., 0., 0.]])\n"
     ]
    }
   ],
   "source": [
    "shape = (2,3,)\n",
    "rand_tensor = torch.rand(shape)\n",
    "ones_tensor = torch.ones(shape)\n",
    "zeros_tensor = torch.zeros(shape)\n",
    "\n",
    "print(f\"Random Tensor: \\n {rand_tensor} \\n\")\n",
    "print(f\"Ones Tensor: \\n {ones_tensor} \\n\")\n",
    "print(f\"Zeros Tensor: \\n {zeros_tensor}\")"
   ]
  },
  {
   "cell_type": "code",
   "execution_count": 9,
   "metadata": {},
   "outputs": [
    {
     "name": "stdout",
     "output_type": "stream",
     "text": [
      "Random Tensor: \n",
      " tensor([[0.1392, 0.2380, 0.1032, 0.6953],\n",
      "        [0.7158, 0.3913, 0.0911, 0.1545],\n",
      "        [0.2038, 0.0664, 0.9982, 0.2105]]) \n",
      "\n",
      "Shape of tensor: torch.Size([3, 4])\n",
      "Datatype of tensor: torch.float32\n",
      "Device tensor is stored on: cpu\n"
     ]
    }
   ],
   "source": [
    "tensor = torch.rand(3,4)\n",
    "\n",
    "print(f\"Random Tensor: \\n {tensor} \\n\")\n",
    "print(f\"Shape of tensor: {tensor.shape}\")\n",
    "print(f\"Datatype of tensor: {tensor.dtype}\")\n",
    "print(f\"Device tensor is stored on: {tensor.device}\")"
   ]
  },
  {
   "cell_type": "code",
   "execution_count": 10,
   "metadata": {},
   "outputs": [],
   "source": [
    "# GPU가 존재하면 텐서를 이동합니다\n",
    "if torch.cuda.is_available():\n",
    "  tensor = tensor.to('cuda')"
   ]
  },
  {
   "cell_type": "code",
   "execution_count": 13,
   "metadata": {},
   "outputs": [
    {
     "name": "stdout",
     "output_type": "stream",
     "text": [
      "Random Tensor: \n",
      " tensor([[0.2538, 0.8653, 0.8758, 0.4422],\n",
      "        [0.1578, 0.2791, 0.3726, 0.8337],\n",
      "        [0.8387, 0.5881, 0.9932, 0.2651],\n",
      "        [0.8919, 0.9574, 0.8619, 0.8216]]) \n",
      "\n",
      "First row:  tensor([0.2538, 0.8653, 0.8758, 0.4422])\n",
      "First column:  tensor([0.2538, 0.1578, 0.8387, 0.8919])\n",
      "Last column: tensor([0.4422, 0.8337, 0.2651, 0.8216])\n",
      "Last column: tensor([0.4422, 0.8337, 0.2651, 0.8216])\n",
      "tensor([[0.2538, 0.0000, 0.8758, 0.4422],\n",
      "        [0.1578, 0.0000, 0.3726, 0.8337],\n",
      "        [0.8387, 0.0000, 0.9932, 0.2651],\n",
      "        [0.8919, 0.0000, 0.8619, 0.8216]])\n"
     ]
    }
   ],
   "source": [
    "tensor = torch.rand(4, 4)\n",
    "\n",
    "print(f\"Random Tensor: \\n {tensor} \\n\")\n",
    "print('First row: ',tensor[0])\n",
    "print('First column: ', tensor[:, 0])\n",
    "print('Last column:', tensor[:, -1])\n",
    "print('Last column:', tensor[..., -1])\n",
    "tensor[:,1] = 0\n",
    "print(tensor)"
   ]
  },
  {
   "cell_type": "code",
   "execution_count": 14,
   "metadata": {},
   "outputs": [
    {
     "name": "stdout",
     "output_type": "stream",
     "text": [
      "tensor([[0.2538, 0.0000, 0.8758, 0.4422, 0.2538, 0.0000, 0.8758, 0.4422, 0.2538,\n",
      "         0.0000, 0.8758, 0.4422],\n",
      "        [0.1578, 0.0000, 0.3726, 0.8337, 0.1578, 0.0000, 0.3726, 0.8337, 0.1578,\n",
      "         0.0000, 0.3726, 0.8337],\n",
      "        [0.8387, 0.0000, 0.9932, 0.2651, 0.8387, 0.0000, 0.9932, 0.2651, 0.8387,\n",
      "         0.0000, 0.9932, 0.2651],\n",
      "        [0.8919, 0.0000, 0.8619, 0.8216, 0.8919, 0.0000, 0.8619, 0.8216, 0.8919,\n",
      "         0.0000, 0.8619, 0.8216]])\n"
     ]
    }
   ],
   "source": [
    "t1 = torch.cat([tensor, tensor, tensor], dim=1)\n",
    "print(t1)"
   ]
  },
  {
   "cell_type": "code",
   "execution_count": 15,
   "metadata": {},
   "outputs": [
    {
     "name": "stdout",
     "output_type": "stream",
     "text": [
      "tensor([[0.2538, 0.0000, 0.8758, 0.4422],\n",
      "        [0.1578, 0.0000, 0.3726, 0.8337],\n",
      "        [0.8387, 0.0000, 0.9932, 0.2651],\n",
      "        [0.8919, 0.0000, 0.8619, 0.8216],\n",
      "        [0.2538, 0.0000, 0.8758, 0.4422],\n",
      "        [0.1578, 0.0000, 0.3726, 0.8337],\n",
      "        [0.8387, 0.0000, 0.9932, 0.2651],\n",
      "        [0.8919, 0.0000, 0.8619, 0.8216],\n",
      "        [0.2538, 0.0000, 0.8758, 0.4422],\n",
      "        [0.1578, 0.0000, 0.3726, 0.8337],\n",
      "        [0.8387, 0.0000, 0.9932, 0.2651],\n",
      "        [0.8919, 0.0000, 0.8619, 0.8216]])\n"
     ]
    }
   ],
   "source": [
    "t2 = torch.cat([tensor, tensor, tensor], dim=0)\n",
    "print(t2)"
   ]
  },
  {
   "cell_type": "code",
   "execution_count": 19,
   "metadata": {},
   "outputs": [
    {
     "data": {
      "text/plain": [
       "tensor([0.2538, 0.1578, 0.8387, 0.8919, 0.2538, 0.1578, 0.8387, 0.8919, 0.2538,\n",
       "        0.1578, 0.8387, 0.8919])"
      ]
     },
     "execution_count": 19,
     "metadata": {},
     "output_type": "execute_result"
    }
   ],
   "source": [
    "t2[:,0]"
   ]
  },
  {
   "cell_type": "code",
   "execution_count": 20,
   "metadata": {},
   "outputs": [
    {
     "data": {
      "text/plain": [
       "tensor([[1.0270, 0.7351, 1.2000, 1.3445],\n",
       "        [0.7351, 0.8588, 0.7235, 1.1468],\n",
       "        [1.2000, 0.7235, 1.7601, 1.8218],\n",
       "        [1.3445, 1.1468, 1.8218, 2.2132]])"
      ]
     },
     "execution_count": 20,
     "metadata": {},
     "output_type": "execute_result"
    }
   ],
   "source": [
    "# 두 텐서 간의 행렬 곱(matrix multiplication)을 계산합니다. y1, y2, y3은 모두 같은 값을 갖습니다.\n",
    "y1 = tensor @ tensor.T\n",
    "y2 = tensor.matmul(tensor.T)\n",
    "\n",
    "y3 = torch.rand_like(tensor)\n",
    "torch.matmul(tensor, tensor.T, out=y3)"
   ]
  },
  {
   "cell_type": "code",
   "execution_count": 24,
   "metadata": {},
   "outputs": [
    {
     "data": {
      "text/plain": [
       "tensor([[0.0644, 0.0000, 0.7670, 0.1956],\n",
       "        [0.0249, 0.0000, 0.1389, 0.6951],\n",
       "        [0.7033, 0.0000, 0.9864, 0.0703],\n",
       "        [0.7954, 0.0000, 0.7428, 0.6749]])"
      ]
     },
     "execution_count": 24,
     "metadata": {},
     "output_type": "execute_result"
    }
   ],
   "source": [
    "# 요소별 곱(element-wise product)을 계산합니다. z1, z2, z3는 모두 같은 값을 갖습니다.\n",
    "z1 = tensor * tensor\n",
    "z2 = tensor.mul(tensor)\n",
    "\n",
    "z3 = torch.rand_like(tensor)\n",
    "torch.mul(tensor, tensor, out=z3)"
   ]
  },
  {
   "cell_type": "code",
   "execution_count": 25,
   "metadata": {},
   "outputs": [
    {
     "name": "stdout",
     "output_type": "stream",
     "text": [
      "7.608250617980957 <class 'float'>\n"
     ]
    }
   ],
   "source": [
    "agg = tensor.sum()\n",
    "agg_item = agg.item()\n",
    "print(agg_item, type(agg_item))"
   ]
  },
  {
   "cell_type": "code",
   "execution_count": 26,
   "metadata": {},
   "outputs": [
    {
     "name": "stdout",
     "output_type": "stream",
     "text": [
      "tensor([[0.2538, 0.0000, 0.8758, 0.4422],\n",
      "        [0.1578, 0.0000, 0.3726, 0.8337],\n",
      "        [0.8387, 0.0000, 0.9932, 0.2651],\n",
      "        [0.8919, 0.0000, 0.8619, 0.8216]]) \n",
      "\n",
      "tensor([[5.2538, 5.0000, 5.8758, 5.4422],\n",
      "        [5.1578, 5.0000, 5.3726, 5.8337],\n",
      "        [5.8387, 5.0000, 5.9932, 5.2651],\n",
      "        [5.8919, 5.0000, 5.8619, 5.8216]])\n"
     ]
    }
   ],
   "source": [
    "print(tensor, \"\\n\")\n",
    "tensor.add_(5)\n",
    "print(tensor)"
   ]
  },
  {
   "cell_type": "code",
   "execution_count": 27,
   "metadata": {},
   "outputs": [
    {
     "name": "stdout",
     "output_type": "stream",
     "text": [
      "t: tensor([1., 1., 1., 1., 1.])\n",
      "n: [1. 1. 1. 1. 1.]\n"
     ]
    }
   ],
   "source": [
    "t = torch.ones(5)\n",
    "print(f\"t: {t}\")\n",
    "n = t.numpy()\n",
    "print(f\"n: {n}\")"
   ]
  },
  {
   "cell_type": "code",
   "execution_count": 28,
   "metadata": {},
   "outputs": [
    {
     "name": "stdout",
     "output_type": "stream",
     "text": [
      "t: tensor([2., 2., 2., 2., 2.])\n",
      "n: [2. 2. 2. 2. 2.]\n"
     ]
    }
   ],
   "source": [
    "t.add_(1)\n",
    "print(f\"t: {t}\")\n",
    "print(f\"n: {n}\")"
   ]
  },
  {
   "cell_type": "code",
   "execution_count": 29,
   "metadata": {},
   "outputs": [],
   "source": [
    "n = np.ones(5)\n",
    "t = torch.from_numpy(n)"
   ]
  },
  {
   "cell_type": "code",
   "execution_count": 30,
   "metadata": {},
   "outputs": [
    {
     "name": "stdout",
     "output_type": "stream",
     "text": [
      "t: tensor([2., 2., 2., 2., 2.], dtype=torch.float64)\n",
      "n: [2. 2. 2. 2. 2.]\n"
     ]
    }
   ],
   "source": [
    "np.add(n, 1, out=n)\n",
    "print(f\"t: {t}\")\n",
    "print(f\"n: {n}\")"
   ]
  },
  {
   "cell_type": "code",
   "execution_count": null,
   "metadata": {},
   "outputs": [],
   "source": []
  }
 ],
 "metadata": {
  "interpreter": {
   "hash": "2624e9e26dc28606847f9c891d4a6e50802c9dcfadd8d870a86289f610452f5a"
  },
  "kernelspec": {
   "display_name": "Python 3.9.0 64-bit ('.venv': venv)",
   "language": "python",
   "name": "python3"
  },
  "language_info": {
   "codemirror_mode": {
    "name": "ipython",
    "version": 3
   },
   "file_extension": ".py",
   "mimetype": "text/x-python",
   "name": "python",
   "nbconvert_exporter": "python",
   "pygments_lexer": "ipython3",
   "version": "3.9.0"
  },
  "orig_nbformat": 4
 },
 "nbformat": 4,
 "nbformat_minor": 2
}
