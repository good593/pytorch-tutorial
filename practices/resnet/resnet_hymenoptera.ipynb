{
 "cells": [
  {
   "cell_type": "markdown",
   "metadata": {},
   "source": [
    "- https://deep-learning-study.tistory.com/534\n",
    "- https://github.com/Seonghoon-Yu/AI_Paper_Review/blob/master/Classification/ResNet(2015).ipynb"
   ]
  },
  {
   "cell_type": "code",
   "execution_count": 2,
   "metadata": {},
   "outputs": [],
   "source": [
    "# import package\n",
    "import torch\n",
    "import torch.nn as nn \n",
    "import torch.nn.functional as F \n",
    "from torchsummary import summary \n",
    "from torch import optim \n",
    "from torch.optim.lr_scheduler import StepLR \n",
    "\n",
    "from torchvision import datasets \n",
    "import torchvision.transforms as transforms \n",
    "from torch.utils.data import DataLoader \n",
    "\n",
    "from torchvision import utils \n",
    "import matplotlib.pyplot as plt \n",
    "plt.ion()   # 대화형 모드\n",
    "\n",
    "import os, time, copy \n",
    "import numpy as np"
   ]
  },
  {
   "cell_type": "code",
   "execution_count": 19,
   "metadata": {},
   "outputs": [
    {
     "name": "stdout",
     "output_type": "stream",
     "text": [
      "60000\n",
      "10000\n",
      "(1, 28, 28)\n"
     ]
    }
   ],
   "source": [
    "# download data\n",
    "transform_train = transforms.Compose([\n",
    "  transforms.ToTensor()\n",
    "])\n",
    "\n",
    "transform_test = transforms.Compose([\n",
    "  transforms.ToTensor()\n",
    "])\n",
    "\n",
    "train_ds = datasets.FashionMNIST(root='../data', train=True, download=True, transform=transform_train)\n",
    "test_ds = datasets.FashionMNIST(root='../data', train=False, download=True, transform=transform_test)\n",
    "\n",
    "print(len(train_ds))\n",
    "print(len(test_ds))\n",
    "print(train_ds[0][0].numpy().shape)"
   ]
  },
  {
   "cell_type": "code",
   "execution_count": null,
   "metadata": {},
   "outputs": [],
   "source": []
  }
 ],
 "metadata": {
  "interpreter": {
   "hash": "819822aad1d7dd5a8911f6442f86af1dcc8bcd014a1dc82c30af569169ee7dac"
  },
  "kernelspec": {
   "display_name": "Python 3.9.10 64-bit ('pytorch3.9')",
   "language": "python",
   "name": "python3"
  },
  "language_info": {
   "codemirror_mode": {
    "name": "ipython",
    "version": 3
   },
   "file_extension": ".py",
   "mimetype": "text/x-python",
   "name": "python",
   "nbconvert_exporter": "python",
   "pygments_lexer": "ipython3",
   "version": "3.9.10+"
  },
  "orig_nbformat": 4
 },
 "nbformat": 4,
 "nbformat_minor": 2
}
